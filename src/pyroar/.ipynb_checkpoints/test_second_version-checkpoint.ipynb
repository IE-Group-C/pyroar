{
 "cells": [
  {
   "cell_type": "code",
   "execution_count": 1,
   "metadata": {},
   "outputs": [],
   "source": [
    "from sklearn.preprocessing import OneHotEncoder\n",
    "from sklearn.impute import SimpleImputer\n",
    "from sklearn.compose import ColumnTransformer, make_column_selector\n",
    "from sklearn.pipeline import make_pipeline\n",
    "from sklearn.preprocessing import StandardScaler\n",
    "from sklearn.preprocessing import RobustScaler\n",
    "from sklearn.pipeline import Pipeline\n",
    "from sklearn.impute import SimpleImputer\n",
    "import numpy as np\n",
    "import pandas as pd"
   ]
  },
  {
   "cell_type": "code",
   "execution_count": 2,
   "metadata": {},
   "outputs": [],
   "source": [
    "# metadata = { \n",
    "#    'Gender': { 'transformation':'None'}, #check later to ingest all columns\n",
    "#     'Age'   : { 'encoding': 'WOE','impute':'ConstantImputer_1000','transformation':'None' },\n",
    "#     'loan_amount'   : { },\n",
    "#     'paid_amount'   : {  'encodinguueuueu': 'None' }, \n",
    "#     'pending_amount'   : { 'scaling' : 'StandardScaler' , 'encoding': 'None','impute':'MostFrequentImputer','transformation':'reciprocal' }\n",
    "#           }\n",
    "metadata = { \n",
    "    'Gender': { 'scaling' : 'None' , 'encoding': 'WOE','impute':'ConstantImputer_10','transformation':'None'}, #check later to ingest all columns\n",
    "     'Age'   : { 'scaling' : 'MinMaxScaler' , 'encoding': 'None','impute':'ConstantImputer_1000','transformation':'None' },\n",
    "     'loan_amount'   : { 'scaling' : 'None' , 'encoding': 'None','impute':'None','transformation':'squared'},\n",
    "     'paid_amount'   : { 'scaling' : 'MaxAbsoluteScaler' , 'encoding': 'None','impute':'MedianImputer','transformation':'log X' },\n",
    "    'pending_amount'   : { 'scaling' : 'StandardScaler' , 'encoding': 'None','impute':'MostFrequentImputer','transformation':'reciprocal' }\n",
    "           }\n",
    "data = [['M', np.nan,15,np.nan,np.nan], ['F', 16,13.0,0,0], ['M', 10,200.0,20,22], ['F',16,20.0,14,30], ['M',20,25.0,17,15], ['F',22,9.0,10,16], ['F',30,18.0,18,30]]\n",
    " \n",
    "# Create the pandas DataFrame\n",
    "# loan amount to test metadata Dictionary and scalers\n",
    "my_df = pd.DataFrame(data, columns = ['Gender', 'Age','loan_amount','paid_amount','pending_amount'])"
   ]
  },
  {
   "cell_type": "code",
   "execution_count": 3,
   "metadata": {},
   "outputs": [
    {
     "data": {
      "text/html": [
       "<div>\n",
       "<style scoped>\n",
       "    .dataframe tbody tr th:only-of-type {\n",
       "        vertical-align: middle;\n",
       "    }\n",
       "\n",
       "    .dataframe tbody tr th {\n",
       "        vertical-align: top;\n",
       "    }\n",
       "\n",
       "    .dataframe thead th {\n",
       "        text-align: right;\n",
       "    }\n",
       "</style>\n",
       "<table border=\"1\" class=\"dataframe\">\n",
       "  <thead>\n",
       "    <tr style=\"text-align: right;\">\n",
       "      <th></th>\n",
       "      <th>Gender</th>\n",
       "      <th>Age</th>\n",
       "      <th>loan_amount</th>\n",
       "      <th>paid_amount</th>\n",
       "      <th>pending_amount</th>\n",
       "    </tr>\n",
       "  </thead>\n",
       "  <tbody>\n",
       "    <tr>\n",
       "      <th>0</th>\n",
       "      <td>M</td>\n",
       "      <td>NaN</td>\n",
       "      <td>15.0</td>\n",
       "      <td>NaN</td>\n",
       "      <td>NaN</td>\n",
       "    </tr>\n",
       "    <tr>\n",
       "      <th>1</th>\n",
       "      <td>F</td>\n",
       "      <td>16.0</td>\n",
       "      <td>13.0</td>\n",
       "      <td>0.0</td>\n",
       "      <td>0.0</td>\n",
       "    </tr>\n",
       "    <tr>\n",
       "      <th>2</th>\n",
       "      <td>M</td>\n",
       "      <td>10.0</td>\n",
       "      <td>200.0</td>\n",
       "      <td>20.0</td>\n",
       "      <td>22.0</td>\n",
       "    </tr>\n",
       "    <tr>\n",
       "      <th>3</th>\n",
       "      <td>F</td>\n",
       "      <td>16.0</td>\n",
       "      <td>20.0</td>\n",
       "      <td>14.0</td>\n",
       "      <td>30.0</td>\n",
       "    </tr>\n",
       "    <tr>\n",
       "      <th>4</th>\n",
       "      <td>M</td>\n",
       "      <td>20.0</td>\n",
       "      <td>25.0</td>\n",
       "      <td>17.0</td>\n",
       "      <td>15.0</td>\n",
       "    </tr>\n",
       "    <tr>\n",
       "      <th>5</th>\n",
       "      <td>F</td>\n",
       "      <td>22.0</td>\n",
       "      <td>9.0</td>\n",
       "      <td>10.0</td>\n",
       "      <td>16.0</td>\n",
       "    </tr>\n",
       "    <tr>\n",
       "      <th>6</th>\n",
       "      <td>F</td>\n",
       "      <td>30.0</td>\n",
       "      <td>18.0</td>\n",
       "      <td>18.0</td>\n",
       "      <td>30.0</td>\n",
       "    </tr>\n",
       "  </tbody>\n",
       "</table>\n",
       "</div>"
      ],
      "text/plain": [
       "  Gender   Age  loan_amount  paid_amount  pending_amount\n",
       "0      M   NaN         15.0          NaN             NaN\n",
       "1      F  16.0         13.0          0.0             0.0\n",
       "2      M  10.0        200.0         20.0            22.0\n",
       "3      F  16.0         20.0         14.0            30.0\n",
       "4      M  20.0         25.0         17.0            15.0\n",
       "5      F  22.0          9.0         10.0            16.0\n",
       "6      F  30.0         18.0         18.0            30.0"
      ]
     },
     "execution_count": 3,
     "metadata": {},
     "output_type": "execute_result"
    }
   ],
   "source": [
    "my_df"
   ]
  },
  {
   "cell_type": "code",
   "execution_count": 4,
   "metadata": {},
   "outputs": [
    {
     "data": {
      "text/html": [
       "<div>\n",
       "<style scoped>\n",
       "    .dataframe tbody tr th:only-of-type {\n",
       "        vertical-align: middle;\n",
       "    }\n",
       "\n",
       "    .dataframe tbody tr th {\n",
       "        vertical-align: top;\n",
       "    }\n",
       "\n",
       "    .dataframe thead th {\n",
       "        text-align: right;\n",
       "    }\n",
       "</style>\n",
       "<table border=\"1\" class=\"dataframe\">\n",
       "  <thead>\n",
       "    <tr style=\"text-align: right;\">\n",
       "      <th></th>\n",
       "      <th>Age</th>\n",
       "      <th>loan_amount</th>\n",
       "      <th>paid_amount</th>\n",
       "      <th>pending_amount</th>\n",
       "    </tr>\n",
       "  </thead>\n",
       "  <tbody>\n",
       "    <tr>\n",
       "      <th>count</th>\n",
       "      <td>6.00000</td>\n",
       "      <td>7.000000</td>\n",
       "      <td>6.000000</td>\n",
       "      <td>6.000000</td>\n",
       "    </tr>\n",
       "    <tr>\n",
       "      <th>mean</th>\n",
       "      <td>19.00000</td>\n",
       "      <td>42.857143</td>\n",
       "      <td>13.166667</td>\n",
       "      <td>18.833333</td>\n",
       "    </tr>\n",
       "    <tr>\n",
       "      <th>std</th>\n",
       "      <td>6.78233</td>\n",
       "      <td>69.482440</td>\n",
       "      <td>7.332576</td>\n",
       "      <td>11.285684</td>\n",
       "    </tr>\n",
       "    <tr>\n",
       "      <th>min</th>\n",
       "      <td>10.00000</td>\n",
       "      <td>9.000000</td>\n",
       "      <td>0.000000</td>\n",
       "      <td>0.000000</td>\n",
       "    </tr>\n",
       "    <tr>\n",
       "      <th>25%</th>\n",
       "      <td>16.00000</td>\n",
       "      <td>14.000000</td>\n",
       "      <td>11.000000</td>\n",
       "      <td>15.250000</td>\n",
       "    </tr>\n",
       "    <tr>\n",
       "      <th>50%</th>\n",
       "      <td>18.00000</td>\n",
       "      <td>18.000000</td>\n",
       "      <td>15.500000</td>\n",
       "      <td>19.000000</td>\n",
       "    </tr>\n",
       "    <tr>\n",
       "      <th>75%</th>\n",
       "      <td>21.50000</td>\n",
       "      <td>22.500000</td>\n",
       "      <td>17.750000</td>\n",
       "      <td>28.000000</td>\n",
       "    </tr>\n",
       "    <tr>\n",
       "      <th>max</th>\n",
       "      <td>30.00000</td>\n",
       "      <td>200.000000</td>\n",
       "      <td>20.000000</td>\n",
       "      <td>30.000000</td>\n",
       "    </tr>\n",
       "  </tbody>\n",
       "</table>\n",
       "</div>"
      ],
      "text/plain": [
       "            Age  loan_amount  paid_amount  pending_amount\n",
       "count   6.00000     7.000000     6.000000        6.000000\n",
       "mean   19.00000    42.857143    13.166667       18.833333\n",
       "std     6.78233    69.482440     7.332576       11.285684\n",
       "min    10.00000     9.000000     0.000000        0.000000\n",
       "25%    16.00000    14.000000    11.000000       15.250000\n",
       "50%    18.00000    18.000000    15.500000       19.000000\n",
       "75%    21.50000    22.500000    17.750000       28.000000\n",
       "max    30.00000   200.000000    20.000000       30.000000"
      ]
     },
     "execution_count": 4,
     "metadata": {},
     "output_type": "execute_result"
    }
   ],
   "source": [
    "my_df.describe()"
   ]
  },
  {
   "cell_type": "code",
   "execution_count": 5,
   "metadata": {},
   "outputs": [],
   "source": [
    "import general as ct\n",
    "a=ct.General(my_df[['Gender','Age','loan_amount','paid_amount','pending_amount']],metadata)\n",
    "\n",
    "#im.Imputer_print()\n",
    "#ot.outlier_print()\n",
    "#sc.Scaler_print()\n",
    "#tr.transformation_print()\n",
    "#en.Encoder_print()\n",
    "y= my_df[['loan_amount']] > 15\n"
   ]
  },
  {
   "cell_type": "code",
   "execution_count": 6,
   "metadata": {},
   "outputs": [
    {
     "name": "stdout",
     "output_type": "stream",
     "text": [
      "fit was completed successfuly\n"
     ]
    }
   ],
   "source": [
    "a.fit2(my_df,y)"
   ]
  },
  {
   "cell_type": "code",
   "execution_count": 10,
   "metadata": {},
   "outputs": [
    {
     "name": "stdout",
     "output_type": "stream",
     "text": [
      "Transform was completed successfully\n"
     ]
    }
   ],
   "source": [
    "a.transform(keep_original=True)"
   ]
  },
  {
   "cell_type": "code",
   "execution_count": 8,
   "metadata": {},
   "outputs": [
    {
     "data": {
      "text/plain": [
       "{'Gender': {'scaling': 'None',\n",
       "  'encoding': 'WOE',\n",
       "  'impute': 'ConstantImputer_unknown',\n",
       "  'transformation': 'None'},\n",
       " 'Age': {'scaling': 'MinMaxScaler',\n",
       "  'encoding': 'None',\n",
       "  'impute': 'ConstantImputer_1000',\n",
       "  'transformation': 'None'},\n",
       " 'loan_amount': {'scaling': 'None',\n",
       "  'encoding': 'None',\n",
       "  'impute': 'None',\n",
       "  'transformation': 'squared'},\n",
       " 'paid_amount': {'scaling': 'MaxAbsoluteScaler',\n",
       "  'encoding': 'None',\n",
       "  'impute': 'MedianImputer',\n",
       "  'transformation': 'log X'},\n",
       " 'pending_amount': {'scaling': 'StandardScaler',\n",
       "  'encoding': 'None',\n",
       "  'impute': 'MostFrequentImputer',\n",
       "  'transformation': 'reciprocal'}}"
      ]
     },
     "execution_count": 8,
     "metadata": {},
     "output_type": "execute_result"
    }
   ],
   "source": [
    "a.metadata"
   ]
  },
  {
   "cell_type": "code",
   "execution_count": 11,
   "metadata": {},
   "outputs": [
    {
     "data": {
      "text/html": [
       "<div>\n",
       "<style scoped>\n",
       "    .dataframe tbody tr th:only-of-type {\n",
       "        vertical-align: middle;\n",
       "    }\n",
       "\n",
       "    .dataframe tbody tr th {\n",
       "        vertical-align: top;\n",
       "    }\n",
       "\n",
       "    .dataframe thead th {\n",
       "        text-align: right;\n",
       "    }\n",
       "</style>\n",
       "<table border=\"1\" class=\"dataframe\">\n",
       "  <thead>\n",
       "    <tr style=\"text-align: right;\">\n",
       "      <th></th>\n",
       "      <th>Gender</th>\n",
       "      <th>Age</th>\n",
       "      <th>loan_amount</th>\n",
       "      <th>paid_amount</th>\n",
       "      <th>pending_amount</th>\n",
       "      <th>loan_amount_squared</th>\n",
       "      <th>paid_amount_logX</th>\n",
       "      <th>pending_amount_reciprocal</th>\n",
       "    </tr>\n",
       "  </thead>\n",
       "  <tbody>\n",
       "    <tr>\n",
       "      <th>0</th>\n",
       "      <td>M</td>\n",
       "      <td>NaN</td>\n",
       "      <td>225.0</td>\n",
       "      <td>NaN</td>\n",
       "      <td>NaN</td>\n",
       "      <td>5.062500e+04</td>\n",
       "      <td>NaN</td>\n",
       "      <td>NaN</td>\n",
       "    </tr>\n",
       "    <tr>\n",
       "      <th>1</th>\n",
       "      <td>F</td>\n",
       "      <td>16.0</td>\n",
       "      <td>169.0</td>\n",
       "      <td>0.000000</td>\n",
       "      <td>1.000000</td>\n",
       "      <td>2.856100e+04</td>\n",
       "      <td>0.000000</td>\n",
       "      <td>1.0</td>\n",
       "    </tr>\n",
       "    <tr>\n",
       "      <th>2</th>\n",
       "      <td>M</td>\n",
       "      <td>10.0</td>\n",
       "      <td>40000.0</td>\n",
       "      <td>2.995732</td>\n",
       "      <td>0.045455</td>\n",
       "      <td>1.600000e+09</td>\n",
       "      <td>1.097189</td>\n",
       "      <td>22.0</td>\n",
       "    </tr>\n",
       "    <tr>\n",
       "      <th>3</th>\n",
       "      <td>F</td>\n",
       "      <td>16.0</td>\n",
       "      <td>400.0</td>\n",
       "      <td>2.639057</td>\n",
       "      <td>0.033333</td>\n",
       "      <td>1.600000e+05</td>\n",
       "      <td>0.970422</td>\n",
       "      <td>30.0</td>\n",
       "    </tr>\n",
       "    <tr>\n",
       "      <th>4</th>\n",
       "      <td>M</td>\n",
       "      <td>20.0</td>\n",
       "      <td>625.0</td>\n",
       "      <td>2.833213</td>\n",
       "      <td>0.066667</td>\n",
       "      <td>3.906250e+05</td>\n",
       "      <td>1.041412</td>\n",
       "      <td>15.0</td>\n",
       "    </tr>\n",
       "    <tr>\n",
       "      <th>5</th>\n",
       "      <td>F</td>\n",
       "      <td>22.0</td>\n",
       "      <td>81.0</td>\n",
       "      <td>2.302585</td>\n",
       "      <td>0.062500</td>\n",
       "      <td>6.561000e+03</td>\n",
       "      <td>0.834032</td>\n",
       "      <td>16.0</td>\n",
       "    </tr>\n",
       "    <tr>\n",
       "      <th>6</th>\n",
       "      <td>F</td>\n",
       "      <td>30.0</td>\n",
       "      <td>324.0</td>\n",
       "      <td>2.890372</td>\n",
       "      <td>0.033333</td>\n",
       "      <td>1.049760e+05</td>\n",
       "      <td>1.061385</td>\n",
       "      <td>30.0</td>\n",
       "    </tr>\n",
       "  </tbody>\n",
       "</table>\n",
       "</div>"
      ],
      "text/plain": [
       "  Gender   Age  loan_amount  paid_amount  pending_amount  loan_amount_squared  \\\n",
       "0      M   NaN        225.0          NaN             NaN         5.062500e+04   \n",
       "1      F  16.0        169.0     0.000000        1.000000         2.856100e+04   \n",
       "2      M  10.0      40000.0     2.995732        0.045455         1.600000e+09   \n",
       "3      F  16.0        400.0     2.639057        0.033333         1.600000e+05   \n",
       "4      M  20.0        625.0     2.833213        0.066667         3.906250e+05   \n",
       "5      F  22.0         81.0     2.302585        0.062500         6.561000e+03   \n",
       "6      F  30.0        324.0     2.890372        0.033333         1.049760e+05   \n",
       "\n",
       "   paid_amount_logX  pending_amount_reciprocal  \n",
       "0               NaN                        NaN  \n",
       "1          0.000000                        1.0  \n",
       "2          1.097189                       22.0  \n",
       "3          0.970422                       30.0  \n",
       "4          1.041412                       15.0  \n",
       "5          0.834032                       16.0  \n",
       "6          1.061385                       30.0  "
      ]
     },
     "execution_count": 11,
     "metadata": {},
     "output_type": "execute_result"
    }
   ],
   "source": [
    "a.df"
   ]
  },
  {
   "cell_type": "code",
   "execution_count": 6,
   "metadata": {},
   "outputs": [
    {
     "name": "stdout",
     "output_type": "stream",
     "text": [
      "Here are the recommended feature engineering for the fit and transform\n",
      "                          scaling encoding                   impute  \\\n",
      "Gender                       None      WOE  ConstantImputer_unknown   \n",
      "Age                  MinMaxScaler     None     ConstantImputer_1000   \n",
      "loan_amount                  None     None                     None   \n",
      "paid_amount     MaxAbsoluteScaler     None            MedianImputer   \n",
      "pending_amount     StandardScaler     None      MostFrequentImputer   \n",
      "\n",
      "               transformation  \n",
      "Gender                   None  \n",
      "Age                      None  \n",
      "loan_amount           squared  \n",
      "paid_amount             log X  \n",
      "pending_amount     reciprocal  \n"
     ]
    },
    {
     "data": {
      "text/html": [
       "<div>\n",
       "<style scoped>\n",
       "    .dataframe tbody tr th:only-of-type {\n",
       "        vertical-align: middle;\n",
       "    }\n",
       "\n",
       "    .dataframe tbody tr th {\n",
       "        vertical-align: top;\n",
       "    }\n",
       "\n",
       "    .dataframe thead th {\n",
       "        text-align: right;\n",
       "    }\n",
       "</style>\n",
       "<table border=\"1\" class=\"dataframe\">\n",
       "  <thead>\n",
       "    <tr style=\"text-align: right;\">\n",
       "      <th></th>\n",
       "      <th>scaling</th>\n",
       "      <th>encoding</th>\n",
       "      <th>impute</th>\n",
       "      <th>transformation</th>\n",
       "    </tr>\n",
       "  </thead>\n",
       "  <tbody>\n",
       "    <tr>\n",
       "      <th>Gender</th>\n",
       "      <td>None</td>\n",
       "      <td>WOE</td>\n",
       "      <td>ConstantImputer_unknown</td>\n",
       "      <td>None</td>\n",
       "    </tr>\n",
       "    <tr>\n",
       "      <th>Age</th>\n",
       "      <td>MinMaxScaler</td>\n",
       "      <td>None</td>\n",
       "      <td>ConstantImputer_1000</td>\n",
       "      <td>None</td>\n",
       "    </tr>\n",
       "    <tr>\n",
       "      <th>loan_amount</th>\n",
       "      <td>None</td>\n",
       "      <td>None</td>\n",
       "      <td>None</td>\n",
       "      <td>squared</td>\n",
       "    </tr>\n",
       "    <tr>\n",
       "      <th>paid_amount</th>\n",
       "      <td>MaxAbsoluteScaler</td>\n",
       "      <td>None</td>\n",
       "      <td>MedianImputer</td>\n",
       "      <td>log X</td>\n",
       "    </tr>\n",
       "    <tr>\n",
       "      <th>pending_amount</th>\n",
       "      <td>StandardScaler</td>\n",
       "      <td>None</td>\n",
       "      <td>MostFrequentImputer</td>\n",
       "      <td>reciprocal</td>\n",
       "    </tr>\n",
       "  </tbody>\n",
       "</table>\n",
       "</div>"
      ],
      "text/plain": [
       "                          scaling encoding                   impute  \\\n",
       "Gender                       None      WOE  ConstantImputer_unknown   \n",
       "Age                  MinMaxScaler     None     ConstantImputer_1000   \n",
       "loan_amount                  None     None                     None   \n",
       "paid_amount     MaxAbsoluteScaler     None            MedianImputer   \n",
       "pending_amount     StandardScaler     None      MostFrequentImputer   \n",
       "\n",
       "               transformation  \n",
       "Gender                   None  \n",
       "Age                      None  \n",
       "loan_amount           squared  \n",
       "paid_amount             log X  \n",
       "pending_amount     reciprocal  "
      ]
     },
     "execution_count": 6,
     "metadata": {},
     "output_type": "execute_result"
    }
   ],
   "source": [
    "a.get_recommendad_feature_engineering(df_format=True)"
   ]
  },
  {
   "cell_type": "code",
   "execution_count": 11,
   "metadata": {},
   "outputs": [
    {
     "name": "stdout",
     "output_type": "stream",
     "text": [
      "inside inplace = True\n"
     ]
    }
   ],
   "source": [
    "n_meta = {'Gender':{'impute':'ConstantImputer_100'}}\n",
    "a.modify_recommended_feature_engineering(n_meta,inplace=True)"
   ]
  },
  {
   "cell_type": "code",
   "execution_count": 12,
   "metadata": {},
   "outputs": [
    {
     "data": {
      "text/plain": [
       "{'Gender': {'scaling': 'None',\n",
       "  'encoding': 'WOE',\n",
       "  'impute': 'ConstantImputer_100',\n",
       "  'transformation': 'None'},\n",
       " 'Age': {'scaling': 'MinMaxScaler',\n",
       "  'encoding': 'None',\n",
       "  'impute': 'ConstantImputer_1000',\n",
       "  'transformation': 'None'},\n",
       " 'loan_amount': {'scaling': 'None',\n",
       "  'encoding': 'None',\n",
       "  'impute': 'None',\n",
       "  'transformation': 'squared'},\n",
       " 'paid_amount': {'scaling': 'MaxAbsoluteScaler',\n",
       "  'encoding': 'None',\n",
       "  'impute': 'MedianImputer',\n",
       "  'transformation': 'log X'},\n",
       " 'pending_amount': {'scaling': 'StandardScaler',\n",
       "  'encoding': 'None',\n",
       "  'impute': 'MostFrequentImputer',\n",
       "  'transformation': 'reciprocal'}}"
      ]
     },
     "execution_count": 12,
     "metadata": {},
     "output_type": "execute_result"
    }
   ],
   "source": [
    "a.metadata"
   ]
  },
  {
   "cell_type": "code",
   "execution_count": 7,
   "metadata": {},
   "outputs": [],
   "source": [
    "dfx"
   ]
  },
  {
   "cell_type": "code",
   "execution_count": null,
   "metadata": {},
   "outputs": [],
   "source": [
    "print(a.fit(y))\n",
    "a.df"
   ]
  },
  {
   "cell_type": "code",
   "execution_count": 12,
   "metadata": {},
   "outputs": [],
   "source": [
    "a.transform(keep_original=False)"
   ]
  },
  {
   "cell_type": "code",
   "execution_count": 13,
   "metadata": {},
   "outputs": [
    {
     "data": {
      "text/html": [
       "<div>\n",
       "<style scoped>\n",
       "    .dataframe tbody tr th:only-of-type {\n",
       "        vertical-align: middle;\n",
       "    }\n",
       "\n",
       "    .dataframe tbody tr th {\n",
       "        vertical-align: top;\n",
       "    }\n",
       "\n",
       "    .dataframe thead th {\n",
       "        text-align: right;\n",
       "    }\n",
       "</style>\n",
       "<table border=\"1\" class=\"dataframe\">\n",
       "  <thead>\n",
       "    <tr style=\"text-align: right;\">\n",
       "      <th></th>\n",
       "      <th>Gender</th>\n",
       "      <th>Age</th>\n",
       "      <th>loan_amount</th>\n",
       "      <th>paid_amount</th>\n",
       "      <th>pending_amount</th>\n",
       "    </tr>\n",
       "  </thead>\n",
       "  <tbody>\n",
       "    <tr>\n",
       "      <th>0</th>\n",
       "      <td>0.223144</td>\n",
       "      <td>49.5</td>\n",
       "      <td>225.0</td>\n",
       "      <td>0.775000</td>\n",
       "      <td>1.083893</td>\n",
       "    </tr>\n",
       "    <tr>\n",
       "      <th>1</th>\n",
       "      <td>-0.182322</td>\n",
       "      <td>0.3</td>\n",
       "      <td>169.0</td>\n",
       "      <td>0.000000</td>\n",
       "      <td>-1.730993</td>\n",
       "    </tr>\n",
       "    <tr>\n",
       "      <th>2</th>\n",
       "      <td>0.223144</td>\n",
       "      <td>0.0</td>\n",
       "      <td>40000.0</td>\n",
       "      <td>0.149787</td>\n",
       "      <td>-1.823646</td>\n",
       "    </tr>\n",
       "    <tr>\n",
       "      <th>3</th>\n",
       "      <td>-0.182322</td>\n",
       "      <td>0.3</td>\n",
       "      <td>400.0</td>\n",
       "      <td>0.131953</td>\n",
       "      <td>-1.824822</td>\n",
       "    </tr>\n",
       "    <tr>\n",
       "      <th>4</th>\n",
       "      <td>0.223144</td>\n",
       "      <td>0.5</td>\n",
       "      <td>625.0</td>\n",
       "      <td>0.141661</td>\n",
       "      <td>-1.821587</td>\n",
       "    </tr>\n",
       "    <tr>\n",
       "      <th>5</th>\n",
       "      <td>-0.182322</td>\n",
       "      <td>0.6</td>\n",
       "      <td>81.0</td>\n",
       "      <td>0.115129</td>\n",
       "      <td>-1.821991</td>\n",
       "    </tr>\n",
       "    <tr>\n",
       "      <th>6</th>\n",
       "      <td>-0.182322</td>\n",
       "      <td>1.0</td>\n",
       "      <td>324.0</td>\n",
       "      <td>0.144519</td>\n",
       "      <td>-1.824822</td>\n",
       "    </tr>\n",
       "  </tbody>\n",
       "</table>\n",
       "</div>"
      ],
      "text/plain": [
       "     Gender   Age  loan_amount  paid_amount  pending_amount\n",
       "0  0.223144  49.5        225.0     0.775000        1.083893\n",
       "1 -0.182322   0.3        169.0     0.000000       -1.730993\n",
       "2  0.223144   0.0      40000.0     0.149787       -1.823646\n",
       "3 -0.182322   0.3        400.0     0.131953       -1.824822\n",
       "4  0.223144   0.5        625.0     0.141661       -1.821587\n",
       "5 -0.182322   0.6         81.0     0.115129       -1.821991\n",
       "6 -0.182322   1.0        324.0     0.144519       -1.824822"
      ]
     },
     "execution_count": 13,
     "metadata": {},
     "output_type": "execute_result"
    }
   ],
   "source": [
    "a.df"
   ]
  },
  {
   "cell_type": "code",
   "execution_count": 6,
   "metadata": {},
   "outputs": [],
   "source": [
    "import manipulator as man\n",
    "manip = man.Manipulator(my_df[['Gender','Age','loan_amount','paid_amount','pending_amount']],metadata)"
   ]
  },
  {
   "cell_type": "code",
   "execution_count": 7,
   "metadata": {},
   "outputs": [
    {
     "data": {
      "text/html": [
       "<div>\n",
       "<style scoped>\n",
       "    .dataframe tbody tr th:only-of-type {\n",
       "        vertical-align: middle;\n",
       "    }\n",
       "\n",
       "    .dataframe tbody tr th {\n",
       "        vertical-align: top;\n",
       "    }\n",
       "\n",
       "    .dataframe thead th {\n",
       "        text-align: right;\n",
       "    }\n",
       "</style>\n",
       "<table border=\"1\" class=\"dataframe\">\n",
       "  <thead>\n",
       "    <tr style=\"text-align: right;\">\n",
       "      <th></th>\n",
       "      <th>scaling</th>\n",
       "      <th>encoding</th>\n",
       "      <th>impute</th>\n",
       "      <th>transformation</th>\n",
       "    </tr>\n",
       "  </thead>\n",
       "  <tbody>\n",
       "    <tr>\n",
       "      <th>Gender</th>\n",
       "      <td>None</td>\n",
       "      <td>WOE</td>\n",
       "      <td>ConstantImputer_unknown</td>\n",
       "      <td>None</td>\n",
       "    </tr>\n",
       "    <tr>\n",
       "      <th>Age</th>\n",
       "      <td>MinMaxScaler</td>\n",
       "      <td>None</td>\n",
       "      <td>ConstantImputer_1000</td>\n",
       "      <td>None</td>\n",
       "    </tr>\n",
       "    <tr>\n",
       "      <th>loan_amount</th>\n",
       "      <td>None</td>\n",
       "      <td>None</td>\n",
       "      <td>None</td>\n",
       "      <td>squared</td>\n",
       "    </tr>\n",
       "    <tr>\n",
       "      <th>paid_amount</th>\n",
       "      <td>MaxAbsoluteScaler</td>\n",
       "      <td>None</td>\n",
       "      <td>MedianImputer</td>\n",
       "      <td>log X</td>\n",
       "    </tr>\n",
       "    <tr>\n",
       "      <th>pending_amount</th>\n",
       "      <td>StandardScaler</td>\n",
       "      <td>None</td>\n",
       "      <td>MostFrequentImputer</td>\n",
       "      <td>reciprocal</td>\n",
       "    </tr>\n",
       "  </tbody>\n",
       "</table>\n",
       "</div>"
      ],
      "text/plain": [
       "                          scaling encoding                   impute  \\\n",
       "Gender                       None      WOE  ConstantImputer_unknown   \n",
       "Age                  MinMaxScaler     None     ConstantImputer_1000   \n",
       "loan_amount                  None     None                     None   \n",
       "paid_amount     MaxAbsoluteScaler     None            MedianImputer   \n",
       "pending_amount     StandardScaler     None      MostFrequentImputer   \n",
       "\n",
       "               transformation  \n",
       "Gender                   None  \n",
       "Age                      None  \n",
       "loan_amount           squared  \n",
       "paid_amount             log X  \n",
       "pending_amount     reciprocal  "
      ]
     },
     "execution_count": 7,
     "metadata": {},
     "output_type": "execute_result"
    }
   ],
   "source": [
    "manip.get_recommendad_feature_engineering(manip.metadata)"
   ]
  },
  {
   "cell_type": "code",
   "execution_count": 16,
   "metadata": {},
   "outputs": [],
   "source": [
    "from imputation import Imputer\n",
    "\n",
    "imputer = Imputer(my_df[['Gender','Age','loan_amount','paid_amount','pending_amount']],metadata)\n",
    "\n",
    "# tempdf = imputer.fit()\n",
    "\n",
    "# imputer.transform()"
   ]
  },
  {
   "cell_type": "code",
   "execution_count": 18,
   "metadata": {},
   "outputs": [
    {
     "name": "stdout",
     "output_type": "stream",
     "text": [
      "You need to fit the imputer first\n"
     ]
    }
   ],
   "source": [
    "imputer.transform()"
   ]
  },
  {
   "cell_type": "code",
   "execution_count": 19,
   "metadata": {},
   "outputs": [
    {
     "data": {
      "text/plain": [
       "{'Gender': SimpleImputer(fill_value='unknown', strategy='constant'),\n",
       " 'Age': SimpleImputer(fill_value=1000, strategy='constant'),\n",
       " 'paid_amount': SimpleImputer(strategy='median'),\n",
       " 'pending_amount': SimpleImputer(strategy='most_frequent')}"
      ]
     },
     "execution_count": 19,
     "metadata": {},
     "output_type": "execute_result"
    }
   ],
   "source": [
    "imputer.fitted_imputer"
   ]
  },
  {
   "cell_type": "code",
   "execution_count": 9,
   "metadata": {},
   "outputs": [
    {
     "data": {
      "text/html": [
       "<div>\n",
       "<style scoped>\n",
       "    .dataframe tbody tr th:only-of-type {\n",
       "        vertical-align: middle;\n",
       "    }\n",
       "\n",
       "    .dataframe tbody tr th {\n",
       "        vertical-align: top;\n",
       "    }\n",
       "\n",
       "    .dataframe thead th {\n",
       "        text-align: right;\n",
       "    }\n",
       "</style>\n",
       "<table border=\"1\" class=\"dataframe\">\n",
       "  <thead>\n",
       "    <tr style=\"text-align: right;\">\n",
       "      <th></th>\n",
       "      <th>Gender</th>\n",
       "      <th>Age</th>\n",
       "      <th>loan_amount</th>\n",
       "      <th>paid_amount</th>\n",
       "      <th>pending_amount</th>\n",
       "    </tr>\n",
       "  </thead>\n",
       "  <tbody>\n",
       "    <tr>\n",
       "      <th>0</th>\n",
       "      <td>M</td>\n",
       "      <td>NaN</td>\n",
       "      <td>225.0</td>\n",
       "      <td>NaN</td>\n",
       "      <td>NaN</td>\n",
       "    </tr>\n",
       "    <tr>\n",
       "      <th>1</th>\n",
       "      <td>F</td>\n",
       "      <td>16.0</td>\n",
       "      <td>169.0</td>\n",
       "      <td>0.000000</td>\n",
       "      <td>1.000000</td>\n",
       "    </tr>\n",
       "    <tr>\n",
       "      <th>2</th>\n",
       "      <td>M</td>\n",
       "      <td>10.0</td>\n",
       "      <td>40000.0</td>\n",
       "      <td>2.995732</td>\n",
       "      <td>0.045455</td>\n",
       "    </tr>\n",
       "    <tr>\n",
       "      <th>3</th>\n",
       "      <td>F</td>\n",
       "      <td>16.0</td>\n",
       "      <td>400.0</td>\n",
       "      <td>2.639057</td>\n",
       "      <td>0.033333</td>\n",
       "    </tr>\n",
       "    <tr>\n",
       "      <th>4</th>\n",
       "      <td>M</td>\n",
       "      <td>20.0</td>\n",
       "      <td>625.0</td>\n",
       "      <td>2.833213</td>\n",
       "      <td>0.066667</td>\n",
       "    </tr>\n",
       "    <tr>\n",
       "      <th>5</th>\n",
       "      <td>F</td>\n",
       "      <td>22.0</td>\n",
       "      <td>81.0</td>\n",
       "      <td>2.302585</td>\n",
       "      <td>0.062500</td>\n",
       "    </tr>\n",
       "    <tr>\n",
       "      <th>6</th>\n",
       "      <td>F</td>\n",
       "      <td>30.0</td>\n",
       "      <td>324.0</td>\n",
       "      <td>2.890372</td>\n",
       "      <td>0.033333</td>\n",
       "    </tr>\n",
       "  </tbody>\n",
       "</table>\n",
       "</div>"
      ],
      "text/plain": [
       "  Gender   Age  loan_amount  paid_amount  pending_amount\n",
       "0      M   NaN        225.0          NaN             NaN\n",
       "1      F  16.0        169.0     0.000000        1.000000\n",
       "2      M  10.0      40000.0     2.995732        0.045455\n",
       "3      F  16.0        400.0     2.639057        0.033333\n",
       "4      M  20.0        625.0     2.833213        0.066667\n",
       "5      F  22.0         81.0     2.302585        0.062500\n",
       "6      F  30.0        324.0     2.890372        0.033333"
      ]
     },
     "execution_count": 9,
     "metadata": {},
     "output_type": "execute_result"
    }
   ],
   "source": [
    "tempdf"
   ]
  },
  {
   "cell_type": "code",
   "execution_count": 8,
   "metadata": {},
   "outputs": [],
   "source": [
    "n_meta = {'Gender':{'impute':'ConstantImputer_100'}}\n",
    "manip.metadata = manip.modify_recommended_feature_engineering(n_meta)"
   ]
  },
  {
   "cell_type": "code",
   "execution_count": 9,
   "metadata": {},
   "outputs": [
    {
     "data": {
      "text/plain": [
       "['RobustScaler', 'StandardScaler', 'MaxAbsoluteScaler', 'MinMaxScaler', 'None']"
      ]
     },
     "execution_count": 9,
     "metadata": {},
     "output_type": "execute_result"
    }
   ],
   "source": [
    "manip.allowed_scaling"
   ]
  },
  {
   "cell_type": "code",
   "execution_count": 10,
   "metadata": {},
   "outputs": [
    {
     "data": {
      "text/plain": [
       "{'Gender': {'scaling': 'None',\n",
       "  'encoding': 'WOE',\n",
       "  'impute': 'ConstantImputer_100',\n",
       "  'transformation': 'None'},\n",
       " 'Age': {'scaling': 'MinMaxScaler',\n",
       "  'encoding': 'None',\n",
       "  'impute': 'ConstantImputer_1000',\n",
       "  'transformation': 'None'},\n",
       " 'loan_amount': {'scaling': 'None',\n",
       "  'encoding': 'None',\n",
       "  'impute': 'None',\n",
       "  'transformation': 'squared'},\n",
       " 'paid_amount': {'scaling': 'MaxAbsoluteScaler',\n",
       "  'encoding': 'None',\n",
       "  'impute': 'MedianImputer',\n",
       "  'transformation': 'log X'},\n",
       " 'pending_amount': {'scaling': 'StandardScaler',\n",
       "  'encoding': 'None',\n",
       "  'impute': 'MostFrequentImputer',\n",
       "  'transformation': 'reciprocal'}}"
      ]
     },
     "execution_count": 10,
     "metadata": {},
     "output_type": "execute_result"
    }
   ],
   "source": [
    "manip.metadata"
   ]
  },
  {
   "cell_type": "code",
   "execution_count": 7,
   "metadata": {},
   "outputs": [
    {
     "name": "stdout",
     "output_type": "stream",
     "text": [
      "{'Gender': {'transformation': 'None'}, 'Age': {'encoding': 'WOE', 'impute': 'ConstantImputer_1000', 'transformation': 'None'}, 'loan_amount': {}, 'paid_amount': {'encodinguueuueu': 'None'}, 'pending_amount': {'scaling': 'StandardScaler', 'encoding': 'None', 'impute': 'MostFrequentImputer', 'transformation': 'reciprocal'}}\n"
     ]
    }
   ],
   "source": [
    "print(metadata)"
   ]
  },
  {
   "cell_type": "code",
   "execution_count": 260,
   "metadata": {},
   "outputs": [],
   "source": [
    "class CustomTransformer:\n",
    "    \n",
    "    def __init__(self, _df):\n",
    "        pass\n",
    "        self.df = _df\n",
    "        self.metadata = {}\n",
    "        \n",
    "    \n",
    "    \n",
    "    def scan(self, X):\n",
    "        \"\"\"This is the scan method for group c transformer\"\"\" \n",
    "       \n",
    "        \n",
    "       #select_numeric_features = make_column_selector(dtype_include=np.number)\n",
    "        self.metadata = { 'Gender': { 'scaling' : 'None' , 'encoding': OneHotEncoder(handle_unknown='ignore')},\n",
    "                         'Age'   : { 'scaling' : StandardScaler() , 'encoding': 'None','imput':SimpleImputer(missing_values=np.nan, strategy='mean') },\n",
    "                          'loan_amount'   : { 'scaling' : RobustScaler() , 'encoding': 'None'}\n",
    "                         }\n",
    "       #numeric_features = select_numeric_features(X)\n",
    "       #print(\"numeric_features\",numeric_features)\n",
    "       #RobustScaler_features=[] \n",
    "       #standardscaler_features=[] \n",
    "       #for i in numeric_features:\n",
    "            #print(i)\n",
    "        #    if self.check_outlier_numircal(X[i])== 'RobustScaler':\n",
    "         #       RobustScaler_features.append(i)\n",
    "          #  else:\n",
    "           #     standardscaler_features.append(i)\n",
    "      # standardscaler_pipeline = make_pipeline(StandardScaler())\n",
    " \n",
    "       #self.column_transformer =\\\n",
    "       # ColumnTransformer(transformers=\\\n",
    "       #                   [('RobustScaler_features',\\\n",
    "        #                    RobustScaler_pipeline,\\\n",
    "         #                   RobustScaler_features),\\\n",
    "          #                ('oh_pipeline',\\\n",
    "           #                oh_pipeline,\\\n",
    "            #                 oh_features),\\\n",
    "             #             ('standardscaler_pipeline',\\\n",
    "              #             standardscaler_pipeline,\\\n",
    "               #            standardscaler_features)],\n",
    "                #      n_jobs=-1,\n",
    "                 #     remainder='passthrough')\n",
    "       \n",
    "    \n",
    "       #print(\"self.column_transformer\",self.column_transformer)\n",
    "       #print(\"RobustScaler_features\",RobustScaler_features)\n",
    "       \n",
    "       #print(\"oh_features\",oh_features)\n",
    "       #print(\"standardscaler_pipeline\",standardscaler_features)\n",
    "       # by Fahad ,dynamic dictionary to read df columns to populate metadata \n",
    "      # self.metadata = {}\n",
    "        \n",
    "      # for column in X:\n",
    "       # nested_dic={ 'scaling' : 'None' , 'encoding': 'None'}\n",
    "       # self.metadata[column]= nested_dic\n",
    "        # Select scaler type based on outlier detection result Standard scaler vs Robust scalar\n",
    "       # if X[column].dtypes in ['int8','int16','int32','int64','float16','float32','float64']:\n",
    "            \n",
    "        #    self.metadata[column]['scaling']=self.check_outlier_numircal(X[column])\n",
    "        \n",
    "       # if X[column].dtypes =='object':\n",
    "        #    self.metadata[column]['encoding']='one-hot-encoding'\n",
    "        \n",
    "      # print(self.metadata)\n",
    "        \n",
    "       #self.metadata = { 'Gender': { 'scaling' : 'None' , 'encoding': 'one-hot-encoding'},\n",
    "       #                  'Age'   : { 'scaling' : 'standard_scaler' , 'encoding': 'None'}\n",
    "       #                  }\n",
    "       #self.metadata['Age']['scaling']=self.check_outlier_numircal(X['Age'])\n",
    "        \n",
    "        print(\"this is the scan method\")\n",
    "    \n",
    "       \n",
    "        # end\n",
    "    \n",
    "    def fit(self, X,y):\n",
    "        \"\"\"This is the scan method for group c transformer\"\"\" \n",
    "        print(\"this is the fit method\")\n",
    "       #print('x shape =',X)\n",
    "        Pipeline_per_column=[]\n",
    "       #t=0\n",
    "        '''\n",
    "        #Is is recommended to create a function withen a class method?\n",
    "        def estimators_creator(md):\n",
    "            for x in md:\n",
    "                estimators=[]\n",
    "                for h in md[x]:\n",
    "                    if md[x][h] !='None':\n",
    "                        estimators.append((x+'_'+h, md[x][h]))\n",
    "\n",
    "                col_name_list=[x]\n",
    "                print('estimator value',estimators)\n",
    "                if  len(estimators)!=0:\n",
    "                    Pipeline_per_column.append((x+'_'+'column',Pipeline(steps=estimators),col_name_list))\n",
    "            return list(Pipeline_per_column)\n",
    "        \n",
    "        \n",
    "        Pipeline_per_column = np.vectorize(estimators_creator)(self.metadata) #estimators_creator(self.metadata)\n",
    "        Pipeline_per_column = Pipeline_per_column.tolist()\n",
    "        print(Pipeline_per_column)\n",
    "        '''       \n",
    "        for x in self.metadata:\n",
    "          #estimators = [(x+'_'+'scaling', self.metadata[x]['scaling']), (x+'_'+'encoding', self.metadata[x]['encoding'])] \n",
    "\n",
    "            #print(x)\n",
    "            estimators=[]\n",
    "            for h in self.metadata[x]:\n",
    "        #        print(h)\n",
    "                if self.metadata[x][h] !='None':\n",
    "                    estimators.append((x+'_'+h, self.metadata[x][h]))\n",
    "                \n",
    "                    #estimators = [(x+'_'+h, self.metadata[x][h])\n",
    "            #print(estimators)\n",
    "            col_name_list=[x]\n",
    "            print('estimator value',estimators)\n",
    "            if  len(estimators)!=0:\n",
    "                Pipeline_per_column.append((x+'_'+'column',Pipeline(steps=estimators),col_name_list))\n",
    "           \n",
    "                \n",
    "                \n",
    "            #t=t+1\n",
    "      # RobustScaler_pipeline = make_pipeline(RobustScaler())\n",
    "      # print(\"here\",RobustScaler_pipeline.get_params(deep=True))\n",
    "      # oh_features = self.select_oh_features()\n",
    "      # oh_pipeline = make_pipeline(OneHotEncoder(handle_unknown='ignore'))\n",
    "        # we need to test this functionality carefully, in case of empty transformation\n",
    "        if len(Pipeline_per_column) != 0: \n",
    "            print(Pipeline_per_column)\n",
    "            print('----------')\n",
    "            print(type(Pipeline_per_column))\n",
    "            self.column_transformer=ColumnTransformer(transformers=Pipeline_per_column,n_jobs=-1,remainder='passthrough')\n",
    "            self.column_transformer.fit(X, y)\n",
    "            print('this is metadata',self.metadata)\n",
    "            print('this is pipeline',self.column_transformer)\n",
    "        else:\n",
    "            print('please select some data transformation methods')\n",
    "       #print('this is pipeline dictionary',self.column_transformer.transformers_)\n",
    "       #print('check',self.column_transformer.transformers_[0])   \n",
    "       #self.column_transformer.set_params('Gender_encoding'='passthrough')\n",
    "       #self.column_transformer.fit(X, y)\n",
    "       #for key in self.metadata:\n",
    "            #print('/nColumn Name:', key, ' ** values:', self.metadata[key])\n",
    "            # implement your fit methods here  \n",
    "        #    if self.metadata[key]['scaling']=='standard_scaler':\n",
    "         #       self.standardscaler_fit(key)\n",
    "            \n",
    "          #  if self.metadata[key]['scaling']=='RobustScaler':\n",
    "           #     self.RobustScaler_fit(key)\n",
    "           # if self.metadata[key]['encoding']=='one-hot-encoding':\n",
    "           #     self.onehotencoding_fit(key)\n",
    "    \n",
    "    def transform(self, X):\n",
    "        \"\"\"This is the transform method for group c transformer\"\"\"\n",
    "        self.df=pd.DataFrame(self.column_transformer.transform(X))\n",
    "        \n",
    "        #for key in self.metadata:\n",
    "         #   print(type(self.metadata[key]['scaling']).__name__)\n",
    "            #print('/nColumn Name:', key, ' ** values:', self.metadata[key])\n",
    "            # implement your fit methods here  \n",
    "            # onehotencoding_transform\n",
    "            # to get scaler name \n",
    "          #  if type(self.metadata[key]['scaling']).__name__ =='StandardScaler':\n",
    "                #self.standardscaler_fit(key)\n",
    "           #     print('im standard')\n",
    "            #    self.standardscaler_transform(key)\n",
    "           # if  type(self.metadata[key]['scaling']).__name__ =='RobustScaler':\n",
    "                #self.RobustScaler_fit(key)\n",
    "            #    print('im robust')\n",
    "             #   self.RobustScaler_transform(key)\n",
    "           # if  type(self.metadata[key]['encoding']).__name__ =='OneHotEncoder':\n",
    "                #self.RobustScaler_fit(key)\n",
    "            #    print('im ohe')\n",
    "            #    self.onehotencoding_transform(key)\n",
    "        \n",
    "        #self.standardscaler_transform('Age')\n",
    "        print(\"this is the transform method\")\n",
    "        \n",
    "    def standardscaler_fit(self,col_name): # changed from standardscaler_fit to  \n",
    "        from sklearn.preprocessing import StandardScaler\n",
    "        scaler = StandardScaler()\n",
    "        #print([self.df[col_name]])\n",
    "        #self.df[col_name] = scaler.fit_transform(self.df[col_name].to_frame())\n",
    "        self.metadata[col_name]['scaling']= scaler.fit(self.df[col_name].to_frame())\n",
    "        print('this a test for the standardscaler_fit')\n",
    "        \n",
    "    def standardscaler_transform(self,col_name):\n",
    "        from sklearn.preprocessing import StandardScaler\n",
    "        #print([self.df[col_name]])\n",
    "        #self.df[col_name] = scaler.fit_transform(self.df[col_name].to_frame())\n",
    "        scaler= self.metadata[col_name]['scaling']\n",
    "        #print(type(scaler))\n",
    "        self.df[col_name] = scaler.transform(self.df[col_name].to_frame())\n",
    "        print('this a test for the standardscaler_transform')\n",
    "    \n",
    "    def RobustScaler_fit(self,col_name): # changed from standardscaler_fit to  \n",
    "        from sklearn.preprocessing import RobustScaler\n",
    "        scaler = RobustScaler()\n",
    "        #print([self.df[col_name]])\n",
    "        #self.df[col_name] = scaler.fit_transform(self.df[col_name].to_frame())\n",
    "        self.metadata[col_name]['scaling']= scaler.fit(self.df[col_name].to_frame())\n",
    "        print('this a test for the RobustScaler_fit')\n",
    "        \n",
    "    def RobustScaler_transform(self,col_name):\n",
    "        from sklearn.preprocessing import RobustScaler\n",
    "        #print([self.df[col_name]])\n",
    "        #self.df[col_name] = scaler.fit_transform(self.df[col_name].to_frame())\n",
    "        scaler= self.metadata[col_name]['scaling']\n",
    "        #print(type(scaler))\n",
    "        self.df[col_name] = scaler.transform(self.df[col_name].to_frame())\n",
    "        print('this a test for the RobustScaler_transform')\n",
    "    \n",
    "# by Ahmad and Ahmed.. please uncomment to test\n",
    "\n",
    "    def check_missing_values(self,x, missing=[]):\n",
    "        \n",
    "       # if missing == []\n",
    "      #  (df.isnull().sum() / df.isnull().count() * 100)\n",
    "       # else:\n",
    "        #    for items in missing:\n",
    "         #       missing.sum\n",
    "        '''\n",
    "        if x.dtypes == np.object :\n",
    "        a = x.to_numpy(dtype=str)\n",
    "        b= np.char.count(a,'nan').sum() / np.size(a)\n",
    "        print('str',b)\n",
    "        else:\n",
    "        a = z.to_numpy()\n",
    "        b =np.count_nonzero(np.isnan(a)) / np.size(a)\n",
    "        print('number',b)\n",
    "        \n",
    "    def abc(self, x):\n",
    "        np.vectorize(self.check_missing_values)(x)\n",
    "    '''\n",
    "    \n",
    "    def check_outlier_numircal(self,x):\n",
    "        # by Fahad\n",
    "        # ref https://www.geeksforgeeks.org/detect-and-remove-the-outliers-using-python/\n",
    "        #print(x)\n",
    "        Q1 = np.percentile(x, 25,\n",
    "                   interpolation = 'midpoint')\n",
    " \n",
    "        Q3 = np.percentile(x, 75,\n",
    "                   interpolation = 'midpoint')\n",
    "        IQR = Q3 - Q1\n",
    "        Old_length=len(x)\n",
    "        #print(\"Old length: \", Old_length)\n",
    " \n",
    "        # Upper bound\n",
    "        upper = np.where(x >= (Q3+1.5*IQR))\n",
    "        # Lower bound\n",
    "        lower = np.where(x <= (Q1-1.5*IQR))\n",
    "\n",
    "        ''' Removing the Outliers '''\n",
    "        tmp = x.drop(upper[0], inplace = False)\n",
    "        tmp = tmp.drop(lower[0], inplace = False)\n",
    "        new_length=len(tmp)\n",
    "        #print(\"New length: \", new_length)\n",
    "        \n",
    "        if Old_length != new_length:\n",
    "            return \"RobustScaler\"\n",
    "        else:\n",
    "            return \"standard_scaler\"\n",
    "    \n",
    "    def onehotencoding_fit(self,col_name):\n",
    "        from sklearn.preprocessing import OneHotEncoder\n",
    "        from sklearn.compose import ColumnTransformer \n",
    "        \n",
    "        \n",
    "        self.metadata[col_name]['encoding']= OneHotEncoder(drop='first').fit(self.df[col_name].to_frame())\n",
    "        print('this is ohe fit')\n",
    "        \n",
    "    def onehotencoding_transform(self,col_name):\n",
    "        from sklearn.preprocessing import OneHotEncoder\n",
    "        ohe= self.metadata[col_name]['encoding']\n",
    "        self.df[col_name] = ohe.transform(self.df[col_name].to_frame())\n",
    "        print('this is ohe transform')\n",
    "   \n",
    "\n",
    "    def select_oh_features(self):\n",
    "        MAX_OH_CARDINALITY = 10 \n",
    "        oh_features =\\\n",
    "        self.df\\\n",
    "        .select_dtypes(['object', 'category'])\\\n",
    "        .apply(lambda col: col.nunique())\\\n",
    "        .loc[lambda x: x <= MAX_OH_CARDINALITY]\\\n",
    "        .index\\\n",
    "        .tolist()\n",
    "        \n",
    "        return oh_features\n",
    "    \n",
    "    def printDf(self):\n",
    "        print(self.df)\n",
    "    def update_metadata(self,column_name, operation_type,new_transformation,X,y):\n",
    "        self.metadata[column_name][operation_type]=new_transformation\n",
    "        self.fit(X,y)\n",
    "        print(self.df)\n",
    "        "
   ]
  },
  {
   "cell_type": "code",
   "execution_count": 261,
   "metadata": {},
   "outputs": [
    {
     "name": "stdout",
     "output_type": "stream",
     "text": [
      "0\n",
      "estimator value [('Gender_encoding', OneHotEncoder(handle_unknown='ignore'))]\n",
      "estimator value [('Age_scaling', StandardScaler()), ('Age_imput', SimpleImputer())]\n",
      "estimator value [('loan_amount_scaling', RobustScaler())]\n",
      "1\n",
      "estimator value [('Gender_encoding', OneHotEncoder(handle_unknown='ignore'))]\n",
      "estimator value [('Age_scaling', StandardScaler()), ('Age_imput', SimpleImputer())]\n",
      "estimator value [('loan_amount_scaling', RobustScaler())]\n"
     ]
    }
   ],
   "source": [
    "\n",
    "metadata = { 'Gender'        : { 'scaling' : 'None' , 'encoding': OneHotEncoder(handle_unknown='ignore')},\n",
    "             'Age'           : { 'scaling' : StandardScaler() , 'encoding': 'None','imput':SimpleImputer(missing_values=np.nan, strategy='mean') },\n",
    "             'loan_amount'   : { 'scaling' : RobustScaler() , 'encoding': 'None'}\n",
    "           }\n",
    "\n",
    "\n",
    "Pipeline_per_column=[]\n",
    "count = -1\n",
    "\n",
    "def estimators_creator(md):\n",
    "    global count\n",
    "    count = count + 1\n",
    "    print(count)\n",
    "    \n",
    "    for x in md:\n",
    "        #print('[1]------------', x)\n",
    "        estimators=[]\n",
    "        col_name_list=[x]\n",
    "        \n",
    "        for h in md[x]:\n",
    "            if md[x][h] !='None':\n",
    "                estimators.append((x+'_'+h, md[x][h]))\n",
    "\n",
    "        \n",
    "        print('estimator value',estimators)\n",
    "        if  len(estimators)!=0:\n",
    "            Pipeline_per_column.append((x+'_'+'column',Pipeline(steps=estimators),col_name_list))\n",
    "\n",
    "    return Pipeline_per_column\n",
    "\n",
    "Pipeline_per_column2 = np.vectorize(estimators_creator)(np.array(metadata))\n",
    "#Pipeline_per_column2 = estimators_creator(metadata)"
   ]
  },
  {
   "cell_type": "code",
   "execution_count": null,
   "metadata": {},
   "outputs": [],
   "source": [
    "metadata = { 'Gender'        : { 'scaling' : 'None' , 'encoding': OneHotEncoder(handle_unknown='ignore')},\n",
    "             'Age'           : { 'scaling' : StandardScaler() , 'encoding': 'None','imput':SimpleImputer(missing_values=np.nan, strategy='mean') },\n",
    "             'loan_amount'   : { 'scaling' : RobustScaler() , 'encoding': 'None'}\n",
    "           }"
   ]
  },
  {
   "cell_type": "code",
   "execution_count": 18,
   "metadata": {},
   "outputs": [
    {
     "name": "stdout",
     "output_type": "stream",
     "text": [
      "{'Gender': 'None', 'Age': StandardScaler(), 'loan_amount': RobustScaler()}\n"
     ]
    }
   ],
   "source": [
    "dic={}\n",
    "keys = metadata.keys()\n",
    "dict2 = {x:metadata[x]['scaling'] for x in keys}\n",
    "myDict = {key: None for key in metadata.keys()}\n",
    "print(dict2)"
   ]
  },
  {
   "cell_type": "code",
   "execution_count": 262,
   "metadata": {},
   "outputs": [
    {
     "name": "stdout",
     "output_type": "stream",
     "text": [
      "[['Gender_column', Pipeline(steps=[('Gender_encoding', OneHotEncoder(handle_unknown='ignore'))]), ['Gender']], ['Age_column', Pipeline(steps=[('Age_scaling', StandardScaler()),\n",
      "                ('Age_imput', SimpleImputer())]), ['Age']], ['loan_amount_column', Pipeline(steps=[('loan_amount_scaling', RobustScaler())]), ['loan_amount']], ['Gender_column', Pipeline(steps=[('Gender_encoding', OneHotEncoder(handle_unknown='ignore'))]), ['Gender']], ['Age_column', Pipeline(steps=[('Age_scaling', StandardScaler()),\n",
      "                ('Age_imput', SimpleImputer())]), ['Age']], ['loan_amount_column', Pipeline(steps=[('loan_amount_scaling', RobustScaler())]), ['loan_amount']]]\n"
     ]
    }
   ],
   "source": [
    "print(np.array(Pipeline_per_column2).tolist())"
   ]
  },
  {
   "cell_type": "code",
   "execution_count": 290,
   "metadata": {},
   "outputs": [
    {
     "data": {
      "text/html": [
       "<div>\n",
       "<style scoped>\n",
       "    .dataframe tbody tr th:only-of-type {\n",
       "        vertical-align: middle;\n",
       "    }\n",
       "\n",
       "    .dataframe tbody tr th {\n",
       "        vertical-align: top;\n",
       "    }\n",
       "\n",
       "    .dataframe thead th {\n",
       "        text-align: right;\n",
       "    }\n",
       "</style>\n",
       "<table border=\"1\" class=\"dataframe\">\n",
       "  <thead>\n",
       "    <tr style=\"text-align: right;\">\n",
       "      <th></th>\n",
       "      <th>Gender</th>\n",
       "      <th>Age</th>\n",
       "      <th>loan_amount</th>\n",
       "      <th>Result</th>\n",
       "    </tr>\n",
       "  </thead>\n",
       "  <tbody>\n",
       "    <tr>\n",
       "      <th>0</th>\n",
       "      <td>M</td>\n",
       "      <td>15</td>\n",
       "      <td>10.0</td>\n",
       "      <td>1</td>\n",
       "    </tr>\n",
       "    <tr>\n",
       "      <th>1</th>\n",
       "      <td>F</td>\n",
       "      <td>16</td>\n",
       "      <td>13.0</td>\n",
       "      <td>1</td>\n",
       "    </tr>\n",
       "    <tr>\n",
       "      <th>2</th>\n",
       "      <td>M</td>\n",
       "      <td>10</td>\n",
       "      <td>200.0</td>\n",
       "      <td>0</td>\n",
       "    </tr>\n",
       "    <tr>\n",
       "      <th>3</th>\n",
       "      <td>F</td>\n",
       "      <td>16</td>\n",
       "      <td>20.0</td>\n",
       "      <td>1</td>\n",
       "    </tr>\n",
       "    <tr>\n",
       "      <th>4</th>\n",
       "      <td>M</td>\n",
       "      <td>20</td>\n",
       "      <td>25.0</td>\n",
       "      <td>1</td>\n",
       "    </tr>\n",
       "    <tr>\n",
       "      <th>5</th>\n",
       "      <td>F</td>\n",
       "      <td>22</td>\n",
       "      <td>9.0</td>\n",
       "      <td>0</td>\n",
       "    </tr>\n",
       "    <tr>\n",
       "      <th>6</th>\n",
       "      <td>F</td>\n",
       "      <td>30</td>\n",
       "      <td>18.0</td>\n",
       "      <td>0</td>\n",
       "    </tr>\n",
       "  </tbody>\n",
       "</table>\n",
       "</div>"
      ],
      "text/plain": [
       "  Gender  Age  loan_amount  Result\n",
       "0      M   15         10.0       1\n",
       "1      F   16         13.0       1\n",
       "2      M   10        200.0       0\n",
       "3      F   16         20.0       1\n",
       "4      M   20         25.0       1\n",
       "5      F   22          9.0       0\n",
       "6      F   30         18.0       0"
      ]
     },
     "execution_count": 290,
     "metadata": {},
     "output_type": "execute_result"
    }
   ],
   "source": [
    "import pandas as pd\n",
    "import numpy as np\n",
    "#from sklearn import preprocessing\n",
    "from sklearn.model_selection import KFold, train_test_split\n",
    "\n",
    "\n",
    "# initialize list of lists\n",
    "data = [['M', 15,10.0,1], ['F', 16,13.0,1], ['M', 10,200.0,0], ['F',16,20.0,1], ['M',20,25.0,1], ['F',22,9.0,0], ['F',30,18.0,0]]\n",
    " \n",
    "# Create the pandas DataFrame\n",
    "# loan amount to test metadata Dictionary and scalers\n",
    "my_df = pd.DataFrame(data, columns = ['Gender', 'Age','loan_amount', 'Result'])\n",
    " \n",
    "# print dataframe.\n",
    "my_df"
   ]
  },
  {
   "cell_type": "code",
   "execution_count": 291,
   "metadata": {},
   "outputs": [],
   "source": [
    "X = pd.DataFrame(my_df.drop(['Result'],axis=1))\n",
    "y = pd.DataFrame(my_df['Result'])\n",
    "X_train, X_test, y_train, y_test = train_test_split(X, y, test_size = 0.10, random_state = 1)\n",
    "#X_train, y_train= X,y"
   ]
  },
  {
   "cell_type": "code",
   "execution_count": 292,
   "metadata": {},
   "outputs": [
    {
     "name": "stdout",
     "output_type": "stream",
     "text": [
      "  Gender  Age  loan_amount  Result  Age_sqrt\n",
      "0      M   15         10.0       1  3.872983\n",
      "1      F   16         13.0       1  4.000000\n",
      "2      M   10        200.0       0  3.162278\n",
      "3      F   16         20.0       1  4.000000\n",
      "4      M   20         25.0       1  4.472136\n",
      "5      F   22          9.0       0  4.690416\n",
      "6      F   30         18.0       0  5.477226\n"
     ]
    }
   ],
   "source": [
    "import numpy as np\n",
    "\n",
    "my_df['Age_sqrt']=np.sqrt(my_df[['Age']])\n",
    "\n",
    "\n",
    "print(my_df)"
   ]
  },
  {
   "cell_type": "code",
   "execution_count": 321,
   "metadata": {},
   "outputs": [
    {
     "data": {
      "image/png": "[encoded data removed]",
      "text/plain": [
       "<Figure size 432x288 with 1 Axes>"
      ]
     },
     "metadata": {
      "needs_background": "light"
     },
     "output_type": "display_data"
    }
   ],
   "source": [
    "import numpy as np\n",
    "from scipy.stats import norm\n",
    "import matplotlib.pyplot as plt\n",
    "from scipy.stats import shapiro\n",
    "from scipy import stats\n",
    "  \n",
    "# Generate some data for this \n",
    "# demonstration.\n",
    "def test_nor(data):\n",
    "    #data = my_df['Age']\n",
    "\n",
    "    # Fit a normal distribution to\n",
    "    # the data:\n",
    "    # mean and standard deviation\n",
    "    mu, std = norm.fit(data) \n",
    "\n",
    "    # Plot the histogram.\n",
    "    plt.hist(data, bins=20, density=True, alpha=0.6, color='b')\n",
    "\n",
    "    # Plot the PDF.\n",
    "    xmin, xmax = plt.xlim()\n",
    "    x = np.linspace(xmin, xmax, 100)\n",
    "    p = norm.pdf(x, mu, std)\n",
    "\n",
    "    plt.plot(x, p, 'k', linewidth=2)\n",
    "    text=''\n",
    "    shapiro_pvalue = shapiro(my_df['Age'])[1]\n",
    "    if shapiro_pvalue >0.05:\n",
    "        text='data is coming from normal distribution' + ' p-value ='+str(shapiro_pvalue)\n",
    "    else:\n",
    "        text='data is coming from normal distribution' + ' p-value ='+str(shapiro_pvalue)\n",
    "    title = text\n",
    "    plt.title(title)\n",
    "\n",
    "    # Initialise the subplot function using number of rows and columns\n",
    "\n",
    "\n",
    "    plt.show()\n",
    "data = sorted(stats.lognorm.rvs(s=0.8, loc=1, scale=10, size=10))\n",
    "test_nor(data)\n",
    "   "
   ]
  },
  {
   "cell_type": "code",
   "execution_count": 302,
   "metadata": {},
   "outputs": [
    {
     "data": {
      "text/plain": [
       "0.652197003364563"
      ]
     },
     "execution_count": 302,
     "metadata": {},
     "output_type": "execute_result"
    }
   ],
   "source": []
  },
  {
   "cell_type": "code",
   "execution_count": null,
   "metadata": {},
   "outputs": [],
   "source": [
    "def plot_normal(data):\n",
    "    "
   ]
  },
  {
   "cell_type": "code",
   "execution_count": 265,
   "metadata": {},
   "outputs": [
    {
     "data": {
      "text/plain": [
       "pandas.core.frame.DataFrame"
      ]
     },
     "execution_count": 265,
     "metadata": {},
     "output_type": "execute_result"
    }
   ],
   "source": [
    "type(X_train)"
   ]
  },
  {
   "cell_type": "code",
   "execution_count": 266,
   "metadata": {},
   "outputs": [
    {
     "name": "stdout",
     "output_type": "stream",
     "text": [
      "  Gender    Age  loan_amount  Result\n",
      "0      M    NaN         10.0       1\n",
      "1      F   15.0         13.0       1\n",
      "2      M   14.0        200.0       0\n",
      "3      F   22.0         20.0       1\n",
      "4      M   30.0         25.0       1\n",
      "5      F   35.0          9.0       0\n",
      "6      F  500.0         18.0       0\n"
     ]
    }
   ],
   "source": [
    "ct = CustomTransformer(my_df)\n",
    "ct.printDf() "
   ]
  },
  {
   "cell_type": "code",
   "execution_count": 267,
   "metadata": {},
   "outputs": [
    {
     "data": {
      "text/plain": [
       "Gender          object\n",
       "Age            float64\n",
       "loan_amount    float64\n",
       "Result           int64\n",
       "dtype: object"
      ]
     },
     "execution_count": 267,
     "metadata": {},
     "output_type": "execute_result"
    }
   ],
   "source": [
    "my_df.dtypes"
   ]
  },
  {
   "cell_type": "code",
   "execution_count": 268,
   "metadata": {},
   "outputs": [
    {
     "name": "stdout",
     "output_type": "stream",
     "text": [
      "this is the scan method\n"
     ]
    }
   ],
   "source": [
    "\n",
    "ct.scan(X_train)\n",
    "#ct.printDf()"
   ]
  },
  {
   "cell_type": "code",
   "execution_count": 269,
   "metadata": {},
   "outputs": [
    {
     "data": {
      "text/plain": [
       "<__main__.CustomTransformer at 0x1a1362b5520>"
      ]
     },
     "execution_count": 269,
     "metadata": {},
     "output_type": "execute_result"
    }
   ],
   "source": [
    "ct"
   ]
  },
  {
   "cell_type": "code",
   "execution_count": 270,
   "metadata": {},
   "outputs": [],
   "source": [
    "##### my_df.info()"
   ]
  },
  {
   "cell_type": "code",
   "execution_count": 271,
   "metadata": {},
   "outputs": [
    {
     "name": "stdout",
     "output_type": "stream",
     "text": [
      "this is the fit method\n",
      "estimator value [('Gender_encoding', OneHotEncoder(handle_unknown='ignore'))]\n",
      "estimator value [('Age_scaling', StandardScaler()), ('Age_imput', SimpleImputer())]\n",
      "estimator value [('loan_amount_scaling', RobustScaler())]\n",
      "[('Gender_column', Pipeline(steps=[('Gender_encoding', OneHotEncoder(handle_unknown='ignore'))]), ['Gender']), ('Age_column', Pipeline(steps=[('Age_scaling', StandardScaler()),\n",
      "                ('Age_imput', SimpleImputer())]), ['Age']), ('loan_amount_column', Pipeline(steps=[('loan_amount_scaling', RobustScaler())]), ['loan_amount'])]\n",
      "----------\n",
      "<class 'list'>\n",
      "this is metadata {'Gender': {'scaling': 'None', 'encoding': OneHotEncoder(handle_unknown='ignore')}, 'Age': {'scaling': StandardScaler(), 'encoding': 'None', 'imput': SimpleImputer()}, 'loan_amount': {'scaling': RobustScaler(), 'encoding': 'None'}}\n",
      "this is pipeline ColumnTransformer(n_jobs=-1, remainder='passthrough',\n",
      "                  transformers=[('Gender_column',\n",
      "                                 Pipeline(steps=[('Gender_encoding',\n",
      "                                                  OneHotEncoder(handle_unknown='ignore'))]),\n",
      "                                 ['Gender']),\n",
      "                                ('Age_column',\n",
      "                                 Pipeline(steps=[('Age_scaling',\n",
      "                                                  StandardScaler()),\n",
      "                                                 ('Age_imput',\n",
      "                                                  SimpleImputer())]),\n",
      "                                 ['Age']),\n",
      "                                ('loan_amount_column',\n",
      "                                 Pipeline(steps=[('loan_amount_scaling',\n",
      "                                                  RobustScaler())]),\n",
      "                                 ['loan_amount'])])\n",
      "  Gender    Age  loan_amount  Result\n",
      "0      M    NaN         10.0       1\n",
      "1      F   15.0         13.0       1\n",
      "2      M   14.0        200.0       0\n",
      "3      F   22.0         20.0       1\n",
      "4      M   30.0         25.0       1\n",
      "5      F   35.0          9.0       0\n",
      "6      F  500.0         18.0       0\n"
     ]
    }
   ],
   "source": [
    "#X_train, y_train=X_train.values.reshape(-1,1),y_train.values.reshape(-1,1)\n",
    "ct.fit(X_train, y_train)\n",
    "ct.printDf()\n",
    "# (name, transformer, columns)"
   ]
  },
  {
   "cell_type": "code",
   "execution_count": 272,
   "metadata": {},
   "outputs": [
    {
     "name": "stdout",
     "output_type": "stream",
     "text": [
      "this is the fit method\n",
      "estimator value []\n",
      "estimator value [('Age_scaling', StandardScaler()), ('Age_imput', SimpleImputer())]\n",
      "estimator value [('loan_amount_scaling', RobustScaler())]\n",
      "[('Age_column', Pipeline(steps=[('Age_scaling', StandardScaler()),\n",
      "                ('Age_imput', SimpleImputer())]), ['Age']), ('loan_amount_column', Pipeline(steps=[('loan_amount_scaling', RobustScaler())]), ['loan_amount'])]\n",
      "----------\n",
      "<class 'list'>\n",
      "this is metadata {'Gender': {'scaling': 'None', 'encoding': 'None'}, 'Age': {'scaling': StandardScaler(), 'encoding': 'None', 'imput': SimpleImputer()}, 'loan_amount': {'scaling': RobustScaler(), 'encoding': 'None'}}\n",
      "this is pipeline ColumnTransformer(n_jobs=-1, remainder='passthrough',\n",
      "                  transformers=[('Age_column',\n",
      "                                 Pipeline(steps=[('Age_scaling',\n",
      "                                                  StandardScaler()),\n",
      "                                                 ('Age_imput',\n",
      "                                                  SimpleImputer())]),\n",
      "                                 ['Age']),\n",
      "                                ('loan_amount_column',\n",
      "                                 Pipeline(steps=[('loan_amount_scaling',\n",
      "                                                  RobustScaler())]),\n",
      "                                 ['loan_amount'])])\n",
      "  Gender    Age  loan_amount  Result\n",
      "0      M    NaN         10.0       1\n",
      "1      F   15.0         13.0       1\n",
      "2      M   14.0        200.0       0\n",
      "3      F   22.0         20.0       1\n",
      "4      M   30.0         25.0       1\n",
      "5      F   35.0          9.0       0\n",
      "6      F  500.0         18.0       0\n"
     ]
    }
   ],
   "source": [
    "ct.update_metadata('Gender','encoding','None',X_train, y_train)"
   ]
  },
  {
   "cell_type": "code",
   "execution_count": 273,
   "metadata": {},
   "outputs": [
    {
     "name": "stdout",
     "output_type": "stream",
     "text": [
      "<__main__.CustomTransformer object at 0x000001A1362B5520>\n",
      "this is the transform method\n",
      "          0          1  2\n",
      "0 -1.117638  14.115385  M\n",
      "1 -0.996156  -0.269231  F\n",
      "2       0.0       -0.5  M\n",
      "3   0.82608   0.653846  M\n",
      "4 -0.145779   0.269231  F\n",
      "5  1.433492  -0.576923  F\n"
     ]
    }
   ],
   "source": [
    "print(ct)\n",
    "ct.transform(X_train)\n",
    "ct.printDf()"
   ]
  },
  {
   "cell_type": "code",
   "execution_count": null,
   "metadata": {},
   "outputs": [],
   "source": []
  },
  {
   "cell_type": "markdown",
   "metadata": {},
   "source": [
    "## JAS experimenting"
   ]
  },
  {
   "cell_type": "code",
   "execution_count": 4,
   "metadata": {},
   "outputs": [],
   "source": [
    "import pandas as pd"
   ]
  },
  {
   "cell_type": "code",
   "execution_count": 3,
   "metadata": {},
   "outputs": [],
   "source": [
    "metadata = { 'Gender'        : { 'scaling' : 'None' , 'encoding': OneHotEncoder(handle_unknown='ignore')},\n",
    "             'Age'           : { 'scaling' : StandardScaler() , 'encoding': 'None','imput':SimpleImputer(missing_values=np.nan, strategy='mean') },\n",
    "             'loan_amount'   : { 'scaling' : RobustScaler() , 'encoding': 'None'}\n",
    "           }\n"
   ]
  },
  {
   "cell_type": "code",
   "execution_count": 29,
   "metadata": {},
   "outputs": [],
   "source": [
    "def show_recommendad_feature_engineering(metadata):\n",
    "    df = pd.DataFrame(metadata).transpose()\n",
    "    return df\n",
    "\n",
    "def modify_recommended_feature_engineering(column_names, transfomration_type,prefered_option,metadata):\n",
    "    ## --------- We need to add some checks here to ensure the entered values are allowed within our package ------\n",
    "    ## --------- We need to add some checks to ensure the list lenghts are the same or change the approach to provide a dictionary\n",
    "    \n",
    "    temp_metadata = metadata\n",
    "    for i in range(0,len(column_names)):\n",
    "        temp_metadata[column_names[i]][transfomration_type[i]] = prefered_option[i] \n",
    "    return temp_metadata\n"
   ]
  },
  {
   "cell_type": "code",
   "execution_count": 10,
   "metadata": {},
   "outputs": [
    {
     "data": {
      "text/html": [
       "<div>\n",
       "<style scoped>\n",
       "    .dataframe tbody tr th:only-of-type {\n",
       "        vertical-align: middle;\n",
       "    }\n",
       "\n",
       "    .dataframe tbody tr th {\n",
       "        vertical-align: top;\n",
       "    }\n",
       "\n",
       "    .dataframe thead th {\n",
       "        text-align: right;\n",
       "    }\n",
       "</style>\n",
       "<table border=\"1\" class=\"dataframe\">\n",
       "  <thead>\n",
       "    <tr style=\"text-align: right;\">\n",
       "      <th></th>\n",
       "      <th>scaling</th>\n",
       "      <th>encoding</th>\n",
       "      <th>imput</th>\n",
       "    </tr>\n",
       "  </thead>\n",
       "  <tbody>\n",
       "    <tr>\n",
       "      <th>Gender</th>\n",
       "      <td>None</td>\n",
       "      <td>OneHotEncoder(handle_unknown='ignore')</td>\n",
       "      <td>NaN</td>\n",
       "    </tr>\n",
       "    <tr>\n",
       "      <th>Age</th>\n",
       "      <td>StandardScaler()</td>\n",
       "      <td>None</td>\n",
       "      <td>SimpleImputer()</td>\n",
       "    </tr>\n",
       "    <tr>\n",
       "      <th>loan_amount</th>\n",
       "      <td>RobustScaler()</td>\n",
       "      <td>None</td>\n",
       "      <td>NaN</td>\n",
       "    </tr>\n",
       "  </tbody>\n",
       "</table>\n",
       "</div>"
      ],
      "text/plain": [
       "                      scaling                                encoding  \\\n",
       "Gender                   None  OneHotEncoder(handle_unknown='ignore')   \n",
       "Age          StandardScaler()                                    None   \n",
       "loan_amount    RobustScaler()                                    None   \n",
       "\n",
       "                       imput  \n",
       "Gender                   NaN  \n",
       "Age          SimpleImputer()  \n",
       "loan_amount              NaN  "
      ]
     },
     "execution_count": 10,
     "metadata": {},
     "output_type": "execute_result"
    }
   ],
   "source": [
    "show_recommendad_feature_engineering(metadata)"
   ]
  },
  {
   "cell_type": "code",
   "execution_count": 30,
   "metadata": {},
   "outputs": [
    {
     "data": {
      "text/plain": [
       "{'Gender': {'scaling': 'StandardScaler()',\n",
       "  'encoding': OneHotEncoder(handle_unknown='ignore')},\n",
       " 'Age': {'scaling': StandardScaler(),\n",
       "  'encoding': 'OneHotEncoder()',\n",
       "  'imput': SimpleImputer()},\n",
       " 'loan_amount': {'scaling': RobustScaler(), 'encoding': 'None'}}"
      ]
     },
     "execution_count": 30,
     "metadata": {},
     "output_type": "execute_result"
    }
   ],
   "source": [
    "modify_recommended_feature_engineering(['Gender','Age'],['scaling','encoding'],['StandardScaler()','OneHotEncoder()'],metadata)"
   ]
  },
  {
   "cell_type": "code",
   "execution_count": null,
   "metadata": {},
   "outputs": [],
   "source": []
  },
  {
   "cell_type": "code",
   "execution_count": null,
   "metadata": {},
   "outputs": [],
   "source": []
  }
 ],
 "metadata": {
  "kernelspec": {
   "display_name": "Python 3",
   "language": "python",
   "name": "python3"
  },
  "language_info": {
   "codemirror_mode": {
    "name": "ipython",
    "version": 3
   },
   "file_extension": ".py",
   "mimetype": "text/x-python",
   "name": "python",
   "nbconvert_exporter": "python",
   "pygments_lexer": "ipython3",
   "version": "3.8.5"
  }
 },
 "nbformat": 4,
 "nbformat_minor": 5
}
